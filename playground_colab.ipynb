{
  "nbformat": 4,
  "nbformat_minor": 0,
  "metadata": {
    "colab": {
      "name": "playground_colab.ipynb",
      "version": "0.3.2",
      "provenance": [],
      "collapsed_sections": []
    },
    "language_info": {
      "codemirror_mode": {
        "name": "ipython",
        "version": 3
      },
      "file_extension": ".py",
      "mimetype": "text/x-python",
      "name": "python",
      "nbconvert_exporter": "python",
      "pygments_lexer": "ipython3",
      "version": "3.6.8"
    },
    "kernelspec": {
      "display_name": "Python 3",
      "language": "python",
      "name": "python3"
    }
  },
  "cells": [
    {
      "cell_type": "markdown",
      "metadata": {
        "id": "BQDTneRiHrOp",
        "colab_type": "text"
      },
      "source": [
        "https://github.com/ardamavi/Sign-Language-Digits-Dataset\n",
        "\n",
        "https://www.kaggle.com/datamunge/sign-language-mnist\n"
      ]
    },
    {
      "cell_type": "code",
      "metadata": {
        "id": "71twgjkGHtNT",
        "colab_type": "code",
        "outputId": "70f38efe-2e2d-4de4-d656-5889f089aa03",
        "colab": {
          "base_uri": "https://localhost:8080/",
          "height": 34
        }
      },
      "source": [
        "from google.colab import drive\n",
        "drive.mount('/content/gdrive')"
      ],
      "execution_count": 1,
      "outputs": [
        {
          "output_type": "stream",
          "text": [
            "Drive already mounted at /content/gdrive; to attempt to forcibly remount, call drive.mount(\"/content/gdrive\", force_remount=True).\n"
          ],
          "name": "stdout"
        }
      ]
    },
    {
      "cell_type": "code",
      "metadata": {
        "id": "VRozSNAavrWx",
        "colab_type": "code",
        "colab": {}
      },
      "source": [
        "import os\n",
        "import keras\n",
        "from keras.preprocessing.image import ImageDataGenerator"
      ],
      "execution_count": 0,
      "outputs": []
    },
    {
      "cell_type": "code",
      "metadata": {
        "id": "Jytd5UCBH8_P",
        "colab_type": "code",
        "colab": {}
      },
      "source": [
        "working_dir = os.path.join(\"/content/gdrive/My Drive/Colab Notebooks/Sign_Language/\")\n",
        "github_data = os.path.join(working_dir, \"data/ardamavi/Dataset\")\n",
        "kaggle_dir = os.path.join(working_dir, \"data/kaggle/sign-language-mnist\")"
      ],
      "execution_count": 0,
      "outputs": []
    },
    {
      "cell_type": "code",
      "metadata": {
        "id": "N4rO6EiBxMPI",
        "colab_type": "code",
        "colab": {
          "base_uri": "https://localhost:8080/",
          "height": 34
        },
        "outputId": "adcadfc3-d069-482a-8e05-5dcd930dd470"
      },
      "source": [
        "ls '/content/gdrive/My Drive/Colab Notebooks/Sign_Language/data/ardamavi/Dataset'"
      ],
      "execution_count": 38,
      "outputs": [
        {
          "output_type": "stream",
          "text": [
            "\u001b[0m\u001b[01;34m0\u001b[0m/  \u001b[01;34m1\u001b[0m/  \u001b[01;34m2\u001b[0m/  \u001b[01;34m3\u001b[0m/  \u001b[01;34m4\u001b[0m/  \u001b[01;34m5\u001b[0m/  \u001b[01;34m6\u001b[0m/  \u001b[01;34m7\u001b[0m/  \u001b[01;34m8\u001b[0m/  \u001b[01;34m9\u001b[0m/\n"
          ],
          "name": "stdout"
        }
      ]
    },
    {
      "cell_type": "code",
      "metadata": {
        "id": "071nEh31wo4v",
        "colab_type": "code",
        "colab": {
          "base_uri": "https://localhost:8080/",
          "height": 51
        },
        "outputId": "6ec1500c-42fe-429f-a7c5-56a84e1f0e19"
      },
      "source": [
        "ls '/content/gdrive/My Drive/Colab Notebooks/Sign_Language/data/kaggle/sign-language-mnist'"
      ],
      "execution_count": 32,
      "outputs": [
        {
          "output_type": "stream",
          "text": [
            "american_sign_language.PNG  amer_sign3.png       sign_mnist_train.csv\n",
            "amer_sign2.png              sign_mnist_test.csv\n"
          ],
          "name": "stdout"
        }
      ]
    },
    {
      "cell_type": "code",
      "metadata": {
        "id": "j12_oMfIuWVu",
        "colab_type": "code",
        "colab": {}
      },
      "source": [
        "data_gen = ImageDataGenerator(rescale=1/255, )"
      ],
      "execution_count": 0,
      "outputs": []
    },
    {
      "cell_type": "code",
      "metadata": {
        "id": "SPowPa3iuq_r",
        "colab_type": "code",
        "colab": {}
      },
      "source": [
        ""
      ],
      "execution_count": 0,
      "outputs": []
    }
  ]
}